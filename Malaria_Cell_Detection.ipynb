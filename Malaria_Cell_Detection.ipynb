{
 "cells": [
  {
   "cell_type": "markdown",
   "metadata": {},
   "source": [
    "## Transfer Learning using Keras "
   ]
  },
  {
   "cell_type": "markdown",
   "metadata": {},
   "source": [
    "Please download the dataset from the below url"
   ]
  },
  {
   "cell_type": "code",
   "execution_count": 1,
   "metadata": {},
   "outputs": [],
   "source": [
    "# Importing Tensorflow\n",
    "import tensorflow as tf"
   ]
  },
  {
   "cell_type": "code",
   "execution_count": 2,
   "metadata": {},
   "outputs": [
    {
     "name": "stdout",
     "output_type": "stream",
     "text": [
      "Tensorflow Version: 2.3.1\n",
      "Keras Version: 2.4.0\n"
     ]
    }
   ],
   "source": [
    "print(f\"Tensorflow Version: {tf.__version__}\")\n",
    "print(f\"Keras Version: {tf.keras.__version__}\")"
   ]
  },
  {
   "cell_type": "code",
   "execution_count": 3,
   "metadata": {},
   "outputs": [
    {
     "data": {
      "text/plain": [
       "'D:\\\\JUPYTER\\\\PROJECTS\\\\Malaria_Cell_Detection'"
      ]
     },
     "execution_count": 3,
     "metadata": {},
     "output_type": "execute_result"
    }
   ],
   "source": [
    "pwd"
   ]
  },
  {
   "cell_type": "code",
   "execution_count": 4,
   "metadata": {},
   "outputs": [],
   "source": [
    "import glob, os, shutil"
   ]
  },
  {
   "cell_type": "code",
   "execution_count": 5,
   "metadata": {},
   "outputs": [],
   "source": [
    "source_dir = '/Dataset/Parasitized' #Path where your files are at the moment\n",
    "dst1 = '/Dataset/Train' #Path you want to move your files to\n",
    "dst2 = '/Dataset/Test' #Path you want to move your files to"
   ]
  },
  {
   "cell_type": "code",
   "execution_count": 6,
   "metadata": {},
   "outputs": [],
   "source": [
    "files = glob.iglob(os.path.join(source_dir, \"*.png\"))"
   ]
  },
  {
   "cell_type": "code",
   "execution_count": 7,
   "metadata": {},
   "outputs": [],
   "source": [
    "def move_files(cnt,src,dest):\n",
    "    files = glob.iglob(os.path.join(src, \"*.png\"))\n",
    "    i = 0\n",
    "    for file in files:\n",
    "        i = i + 1\n",
    "        if os.path.isfile(file):\n",
    "            shutil.copy2(file, dest)\n",
    "            if i == cnt:\n",
    "                break\n",
    "            else:\n",
    "                continue"
   ]
  },
  {
   "cell_type": "code",
   "execution_count": 8,
   "metadata": {},
   "outputs": [],
   "source": [
    "move_files(5000,source_dir,dst1)"
   ]
  },
  {
   "cell_type": "code",
   "execution_count": 9,
   "metadata": {},
   "outputs": [],
   "source": [
    "# resize()"
   ]
  },
  {
   "cell_type": "code",
   "execution_count": 10,
   "metadata": {},
   "outputs": [
    {
     "name": "stdout",
     "output_type": "stream",
     "text": [
      "GPU not available\n",
      "CPU is available\n",
      "details\n",
      " [PhysicalDevice(name='/physical_device:CPU:0', device_type='CPU')]\n"
     ]
    }
   ],
   "source": [
    "# Checking if CPU or GPU is available\n",
    "CheckList = [\"GPU\", \"CPU\"]\n",
    "for device in CheckList:\n",
    "    out_ = tf.config.list_physical_devices(device)    \n",
    "    if len(out_) > 0:\n",
    "        print(f\"{device} is available\")        \n",
    "        print(\"details\\n\",out_)\n",
    "    else:\n",
    "        print(f\"{device} not available\")"
   ]
  },
  {
   "cell_type": "code",
   "execution_count": 11,
   "metadata": {},
   "outputs": [],
   "source": [
    "# Importing all the necessary libraries\n",
    "import numpy as np\n",
    "import matplotlib.pyplot as plt\n",
    "import pandas as pd\n",
    "import os\n",
    "import seaborn as sns"
   ]
  },
  {
   "cell_type": "code",
   "execution_count": 12,
   "metadata": {},
   "outputs": [],
   "source": [
    "#!pip install keras-tuner"
   ]
  },
  {
   "cell_type": "code",
   "execution_count": 13,
   "metadata": {},
   "outputs": [],
   "source": [
    "#import keras_tuner"
   ]
  },
  {
   "cell_type": "code",
   "execution_count": 49,
   "metadata": {},
   "outputs": [],
   "source": [
    "# Importing all the necessary libraries to build the model\n",
    "\n",
    "from tensorflow.keras.layers import Input, Lambda, Dense, Flatten,MaxPool2D,Conv2D,Dropout\n",
    "from tensorflow.keras.models import Model\n",
    "from tensorflow.keras.preprocessing import image\n",
    "from tensorflow.keras.preprocessing.image import ImageDataGenerator,load_img\n",
    "from tensorflow.keras.callbacks import EarlyStopping\n",
    "\n",
    "from tensorflow.keras.models import Sequential\n",
    "from tensorflow.keras.optimizers import Adam\n",
    "\n",
    "from glob import glob\n",
    "    "
   ]
  },
  {
   "cell_type": "code",
   "execution_count": 27,
   "metadata": {},
   "outputs": [],
   "source": [
    "img_shape = (224, 224, 3)"
   ]
  },
  {
   "cell_type": "code",
   "execution_count": 28,
   "metadata": {},
   "outputs": [],
   "source": [
    "IMAGE_SIZE = [224, 224]\n",
    "\n",
    "train_path = 'Dataset/Train'\n",
    "valid_path = 'Dataset/Test'"
   ]
  },
  {
   "cell_type": "code",
   "execution_count": 37,
   "metadata": {},
   "outputs": [],
   "source": [
    "model = Sequential()\n",
    "\n",
    "model.add(Conv2D(filters=128, kernel_size=(3, 3),\n",
    "                 input_shape=img_shape, activation=\"relu\"))\n",
    "model.add(MaxPool2D(pool_size=(3,3)))\n",
    "model.add(Conv2D(filters=256, kernel_size=(3, 3),\n",
    "                 input_shape=img_shape, activation=\"relu\"))\n",
    "model.add(MaxPool2D(pool_size=(3,3)))\n",
    "model.add(Conv2D(filters=512, kernel_size=(3, 3),\n",
    "                 input_shape=img_shape, activation=\"relu\"))\n",
    "model.add(MaxPool2D(pool_size=(3,3)))\n",
    "model.add(Conv2D(filters=1024, kernel_size=(3, 3),\n",
    "                 input_shape=img_shape, activation=\"relu\"))\n",
    "model.add(MaxPool2D(pool_size=(3,3)))\n",
    "\n",
    "model.add(Flatten())\n",
    "\n",
    "model.add(Dense(128, activation=\"relu\"))\n",
    "model.add(Dropout(0.5))\n",
    "model.add(Dense(256, activation=\"relu\"))\n",
    "model.add(Dropout(0.5))\n",
    "model.add(Dense(512, activation=\"relu\"))\n",
    "model.add(Dropout(0.5))\n",
    "model.add(Dense(1024, activation=\"relu\"))\n",
    "model.add(Dropout(0.5))\n",
    "\n",
    "model.add(Dense(2,activation='softmax'))\n",
    "\n",
    "model.compile(optimizer=\"adam\", loss=\"categorical_crossentropy\", metrics=[\"accuracy\"])"
   ]
  },
  {
   "cell_type": "code",
   "execution_count": 30,
   "metadata": {},
   "outputs": [],
   "source": [
    "from kerastuner import RandomSearch\n",
    "from kerastuner.engine.hyperparameters import HyperParameters"
   ]
  },
  {
   "cell_type": "code",
   "execution_count": 38,
   "metadata": {},
   "outputs": [],
   "source": [
    "# useful for getting number of output classes\n",
    "folders = glob('Dataset/Train/*')"
   ]
  },
  {
   "cell_type": "code",
   "execution_count": 39,
   "metadata": {},
   "outputs": [
    {
     "data": {
      "text/plain": [
       "['Dataset/Train\\\\Parasite', 'Dataset/Train\\\\Uninfected']"
      ]
     },
     "execution_count": 39,
     "metadata": {},
     "output_type": "execute_result"
    }
   ],
   "source": [
    "folders"
   ]
  },
  {
   "cell_type": "code",
   "execution_count": 40,
   "metadata": {},
   "outputs": [],
   "source": [
    "# Use the Image Data Generator for augmentation\n",
    "from tensorflow.keras.preprocessing.image import ImageDataGenerator\n",
    "\n",
    "train_datagen = ImageDataGenerator(rescale = 1./255,\n",
    "                                   shear_range = 0.2,\n",
    "                                   zoom_range = 0.2,\n",
    "                                   horizontal_flip = True,\n",
    "                                   width_shift_range=0.2,\n",
    "                                   height_shift_range=0.2,\n",
    "                                   vertical_flip=0.2\n",
    "                                  )\n",
    "\n",
    "test_datagen = ImageDataGenerator(rescale = 1./255)"
   ]
  },
  {
   "cell_type": "code",
   "execution_count": 41,
   "metadata": {},
   "outputs": [
    {
     "name": "stdout",
     "output_type": "stream",
     "text": [
      "Found 416 images belonging to 2 classes.\n"
     ]
    }
   ],
   "source": [
    "# Make sure you provide the same target size as initialied for the image size\n",
    "training_set = train_datagen.flow_from_directory('Dataset/Train',\n",
    "                                                 target_size = (224, 224),\n",
    "                                                 batch_size = 32,\n",
    "                                                 class_mode = 'categorical')"
   ]
  },
  {
   "cell_type": "code",
   "execution_count": 42,
   "metadata": {},
   "outputs": [
    {
     "name": "stdout",
     "output_type": "stream",
     "text": [
      "Found 134 images belonging to 2 classes.\n"
     ]
    }
   ],
   "source": [
    "test_set = test_datagen.flow_from_directory('Dataset/Test',\n",
    "                                            target_size = (224, 224),\n",
    "                                            batch_size = 32,\n",
    "                                            class_mode = 'categorical')"
   ]
  },
  {
   "cell_type": "code",
   "execution_count": 43,
   "metadata": {},
   "outputs": [
    {
     "data": {
      "text/plain": [
       "5"
      ]
     },
     "execution_count": 43,
     "metadata": {},
     "output_type": "execute_result"
    }
   ],
   "source": [
    "len(test_set)"
   ]
  },
  {
   "cell_type": "code",
   "execution_count": 44,
   "metadata": {},
   "outputs": [],
   "source": [
    "def get_log_path(log_dir=\"logs\"):\n",
    "    fileName = time.strftime(\"log_%Y_%m_%d_%H_%M_%S\")    \n",
    "    log_path = os.path.join(log_dir, fileName)\n",
    "    print(f\"saving logs at:\\n{log_path}\")\n",
    "    return log_path"
   ]
  },
  {
   "cell_type": "code",
   "execution_count": 45,
   "metadata": {},
   "outputs": [
    {
     "name": "stdout",
     "output_type": "stream",
     "text": [
      "saving logs at:\n",
      "logs\\log_2021_01_03_12_26_19\n"
     ]
    }
   ],
   "source": [
    "import time\n",
    "log_dir = get_log_path()\n",
    "tensorboard_callback = tf.keras.callbacks.TensorBoard(log_dir=log_dir, histogram_freq=1)"
   ]
  },
  {
   "cell_type": "code",
   "execution_count": 46,
   "metadata": {},
   "outputs": [],
   "source": [
    "train_labels = np.array([0,1])"
   ]
  },
  {
   "cell_type": "code",
   "execution_count": 50,
   "metadata": {},
   "outputs": [],
   "source": [
    "callback = EarlyStopping(monitor='val_loss', patience=5)"
   ]
  },
  {
   "cell_type": "code",
   "execution_count": 51,
   "metadata": {},
   "outputs": [
    {
     "name": "stdout",
     "output_type": "stream",
     "text": [
      "Epoch 1/50\n",
      "13/13 [==============================] - 55s 4s/step - loss: 0.6946 - accuracy: 0.4760 - val_loss: 0.6882 - val_accuracy: 0.6791\n",
      "Epoch 2/50\n",
      "13/13 [==============================] - 54s 4s/step - loss: 0.6944 - accuracy: 0.4832 - val_loss: 0.6840 - val_accuracy: 0.6791\n",
      "Epoch 3/50\n",
      "13/13 [==============================] - 47s 4s/step - loss: 0.6927 - accuracy: 0.5288 - val_loss: 0.6708 - val_accuracy: 0.6791\n",
      "Epoch 4/50\n",
      "13/13 [==============================] - 46s 4s/step - loss: 0.6918 - accuracy: 0.5264 - val_loss: 0.6722 - val_accuracy: 0.6791\n",
      "Epoch 5/50\n",
      "13/13 [==============================] - 45s 3s/step - loss: 0.6930 - accuracy: 0.5288 - val_loss: 0.6718 - val_accuracy: 0.6791\n",
      "Epoch 6/50\n",
      "13/13 [==============================] - 45s 3s/step - loss: 0.6915 - accuracy: 0.5288 - val_loss: 0.6774 - val_accuracy: 0.6791\n",
      "Epoch 7/50\n",
      "13/13 [==============================] - 45s 3s/step - loss: 0.6920 - accuracy: 0.5288 - val_loss: 0.6746 - val_accuracy: 0.6791\n",
      "Epoch 8/50\n",
      "13/13 [==============================] - 45s 3s/step - loss: 0.6945 - accuracy: 0.5288 - val_loss: 0.6704 - val_accuracy: 0.6791\n",
      "Epoch 9/50\n",
      "13/13 [==============================] - 45s 3s/step - loss: 0.6936 - accuracy: 0.5240 - val_loss: 0.6813 - val_accuracy: 0.6791\n",
      "Epoch 10/50\n",
      "13/13 [==============================] - 46s 4s/step - loss: 0.6918 - accuracy: 0.5361 - val_loss: 0.6745 - val_accuracy: 0.6791\n",
      "Epoch 11/50\n",
      "13/13 [==============================] - 46s 4s/step - loss: 0.6952 - accuracy: 0.5216 - val_loss: 0.6720 - val_accuracy: 0.6791\n",
      "Epoch 12/50\n",
      "13/13 [==============================] - 46s 4s/step - loss: 0.6857 - accuracy: 0.5288 - val_loss: 0.6553 - val_accuracy: 0.6791\n",
      "Epoch 13/50\n",
      "13/13 [==============================] - 46s 4s/step - loss: 0.7148 - accuracy: 0.5625 - val_loss: 0.7217 - val_accuracy: 0.3209\n",
      "Epoch 14/50\n",
      "13/13 [==============================] - 46s 4s/step - loss: 0.6991 - accuracy: 0.4567 - val_loss: 0.6810 - val_accuracy: 0.5075\n",
      "Epoch 15/50\n",
      "13/13 [==============================] - 47s 4s/step - loss: 0.6249 - accuracy: 0.6226 - val_loss: 0.5475 - val_accuracy: 0.5299\n",
      "Epoch 16/50\n",
      "13/13 [==============================] - 48s 4s/step - loss: 0.6761 - accuracy: 0.6010 - val_loss: 0.6181 - val_accuracy: 0.6791\n",
      "Epoch 17/50\n",
      "13/13 [==============================] - 49s 4s/step - loss: 0.6624 - accuracy: 0.6058 - val_loss: 0.5941 - val_accuracy: 0.6791\n",
      "Epoch 18/50\n",
      "13/13 [==============================] - 49s 4s/step - loss: 0.4609 - accuracy: 0.7885 - val_loss: 0.5623 - val_accuracy: 0.6343\n",
      "Epoch 19/50\n",
      "13/13 [==============================] - 50s 4s/step - loss: 0.6574 - accuracy: 0.6274 - val_loss: 0.8434 - val_accuracy: 0.3209\n",
      "Epoch 20/50\n",
      "13/13 [==============================] - 46s 4s/step - loss: 0.5378 - accuracy: 0.6851 - val_loss: 0.4614 - val_accuracy: 0.7313\n",
      "Epoch 21/50\n",
      "13/13 [==============================] - 48s 4s/step - loss: 0.4334 - accuracy: 0.8149 - val_loss: 0.4167 - val_accuracy: 0.7537\n",
      "Epoch 22/50\n",
      "13/13 [==============================] - 47s 4s/step - loss: 0.4427 - accuracy: 0.8317 - val_loss: 0.5924 - val_accuracy: 0.5896\n",
      "Epoch 23/50\n",
      "13/13 [==============================] - 48s 4s/step - loss: 0.4679 - accuracy: 0.7524 - val_loss: 0.4223 - val_accuracy: 0.7463\n",
      "Epoch 24/50\n",
      "13/13 [==============================] - 44s 3s/step - loss: 0.4143 - accuracy: 0.8197 - val_loss: 0.5542 - val_accuracy: 0.6642\n",
      "Epoch 25/50\n",
      "13/13 [==============================] - 45s 3s/step - loss: 0.3986 - accuracy: 0.8173 - val_loss: 0.3992 - val_accuracy: 0.7687\n",
      "Epoch 26/50\n",
      "13/13 [==============================] - 45s 3s/step - loss: 0.4111 - accuracy: 0.8245 - val_loss: 0.4548 - val_accuracy: 0.7313\n",
      "Epoch 27/50\n",
      "13/13 [==============================] - 46s 4s/step - loss: 0.3690 - accuracy: 0.8389 - val_loss: 0.3551 - val_accuracy: 0.8209\n",
      "Epoch 28/50\n",
      "13/13 [==============================] - 46s 4s/step - loss: 0.3903 - accuracy: 0.8558 - val_loss: 0.7552 - val_accuracy: 0.5672\n",
      "Epoch 29/50\n",
      "13/13 [==============================] - 45s 3s/step - loss: 0.4850 - accuracy: 0.7524 - val_loss: 0.5147 - val_accuracy: 0.6567\n",
      "Epoch 30/50\n",
      "13/13 [==============================] - 45s 3s/step - loss: 0.4640 - accuracy: 0.7428 - val_loss: 0.4200 - val_accuracy: 0.7463\n",
      "Epoch 31/50\n",
      "13/13 [==============================] - 52s 4s/step - loss: 0.3169 - accuracy: 0.8822 - val_loss: 0.4951 - val_accuracy: 0.7015\n",
      "Epoch 32/50\n",
      "13/13 [==============================] - 46s 4s/step - loss: 0.3408 - accuracy: 0.8678 - val_loss: 0.3820 - val_accuracy: 0.8209\n"
     ]
    },
    {
     "data": {
      "text/plain": [
       "<tensorflow.python.keras.callbacks.History at 0x12ecbf43880>"
      ]
     },
     "execution_count": 51,
     "metadata": {},
     "output_type": "execute_result"
    }
   ],
   "source": [
    "model.fit_generator(training_set,\n",
    "  validation_data=test_set,\n",
    "  epochs=50,\n",
    "  steps_per_epoch=len(training_set),\n",
    "  validation_steps=len(test_set),\n",
    " callbacks=[callback])"
   ]
  },
  {
   "cell_type": "code",
   "execution_count": 52,
   "metadata": {},
   "outputs": [],
   "source": [
    "plt.rcParams['figure.figsize'] = [11.0, 7.0]\n",
    "plt.rcParams['figure.dpi'] = 90"
   ]
  },
  {
   "cell_type": "code",
   "execution_count": 53,
   "metadata": {},
   "outputs": [
    {
     "data": {
      "image/png": "[encoded data removed]",
      "text/plain": [
       "<Figure size 990x630 with 1 Axes>"
      ]
     },
     "metadata": {
      "needs_background": "light"
     },
     "output_type": "display_data"
    },
    {
     "data": {
      "image/png": "[encoded data removed]",
      "text/plain": [
       "<Figure size 990x630 with 1 Axes>"
      ]
     },
     "metadata": {
      "needs_background": "light"
     },
     "output_type": "display_data"
    },
    {
     "data": {
      "text/plain": [
       "<Figure size 990x630 with 0 Axes>"
      ]
     },
     "metadata": {},
     "output_type": "display_data"
    }
   ],
   "source": [
    "# plot the loss\n",
    "plt.plot(model.history.history['loss'], label='train loss')\n",
    "plt.plot(model.history.history['val_loss'], label='val loss')\n",
    "plt.legend()\n",
    "plt.show()\n",
    "plt.savefig('LossVal_loss')\n",
    "\n",
    "# plot the accuracy\n",
    "plt.plot(model.history.history['accuracy'], label='train acc')\n",
    "plt.plot(model.history.history['val_accuracy'], label='val acc')\n",
    "plt.legend()\n",
    "plt.show()\n",
    "plt.savefig('AccVal_acc')"
   ]
  },
  {
   "cell_type": "code",
   "execution_count": 54,
   "metadata": {},
   "outputs": [],
   "source": [
    "# save it as a h5 file\n",
    "from tensorflow.keras.models import load_model\n",
    "\n",
    "model.save('CNN_Model.h5')"
   ]
  },
  {
   "cell_type": "code",
   "execution_count": 199,
   "metadata": {},
   "outputs": [],
   "source": [
    "img=image.load_img('Dataset/Test/Parasite/C39P4thinF_original_IMG_20150622_110115_cell_110.png',target_size=(224,224,3))"
   ]
  },
  {
   "cell_type": "code",
   "execution_count": 200,
   "metadata": {},
   "outputs": [
    {
     "data": {
      "image/png": "[encoded data removed]",
      "text/plain": [
       "<PIL.Image.Image image mode=RGB size=224x224 at 0x12EC7CA7460>"
      ]
     },
     "execution_count": 200,
     "metadata": {},
     "output_type": "execute_result"
    }
   ],
   "source": [
    "img"
   ]
  },
  {
   "cell_type": "code",
   "execution_count": 201,
   "metadata": {},
   "outputs": [
    {
     "data": {
      "text/plain": [
       "array([[[0., 0., 0.],\n",
       "        [0., 0., 0.],\n",
       "        [0., 0., 0.],\n",
       "        ...,\n",
       "        [0., 0., 0.],\n",
       "        [0., 0., 0.],\n",
       "        [0., 0., 0.]],\n",
       "\n",
       "       [[0., 0., 0.],\n",
       "        [0., 0., 0.],\n",
       "        [0., 0., 0.],\n",
       "        ...,\n",
       "        [0., 0., 0.],\n",
       "        [0., 0., 0.],\n",
       "        [0., 0., 0.]],\n",
       "\n",
       "       [[0., 0., 0.],\n",
       "        [0., 0., 0.],\n",
       "        [0., 0., 0.],\n",
       "        ...,\n",
       "        [0., 0., 0.],\n",
       "        [0., 0., 0.],\n",
       "        [0., 0., 0.]],\n",
       "\n",
       "       ...,\n",
       "\n",
       "       [[0., 0., 0.],\n",
       "        [0., 0., 0.],\n",
       "        [0., 0., 0.],\n",
       "        ...,\n",
       "        [0., 0., 0.],\n",
       "        [0., 0., 0.],\n",
       "        [0., 0., 0.]],\n",
       "\n",
       "       [[0., 0., 0.],\n",
       "        [0., 0., 0.],\n",
       "        [0., 0., 0.],\n",
       "        ...,\n",
       "        [0., 0., 0.],\n",
       "        [0., 0., 0.],\n",
       "        [0., 0., 0.]],\n",
       "\n",
       "       [[0., 0., 0.],\n",
       "        [0., 0., 0.],\n",
       "        [0., 0., 0.],\n",
       "        ...,\n",
       "        [0., 0., 0.],\n",
       "        [0., 0., 0.],\n",
       "        [0., 0., 0.]]], dtype=float32)"
      ]
     },
     "execution_count": 201,
     "metadata": {},
     "output_type": "execute_result"
    }
   ],
   "source": [
    "x=image.img_to_array(img)\n",
    "x"
   ]
  },
  {
   "cell_type": "code",
   "execution_count": 202,
   "metadata": {},
   "outputs": [
    {
     "data": {
      "text/plain": [
       "(224, 224, 3)"
      ]
     },
     "execution_count": 202,
     "metadata": {},
     "output_type": "execute_result"
    }
   ],
   "source": [
    "x.shape"
   ]
  },
  {
   "cell_type": "code",
   "execution_count": 203,
   "metadata": {},
   "outputs": [],
   "source": [
    "x=x/255"
   ]
  },
  {
   "cell_type": "code",
   "execution_count": 204,
   "metadata": {},
   "outputs": [
    {
     "data": {
      "text/plain": [
       "(224, 224, 3)"
      ]
     },
     "execution_count": 204,
     "metadata": {},
     "output_type": "execute_result"
    }
   ],
   "source": [
    "x.shape"
   ]
  },
  {
   "cell_type": "code",
   "execution_count": 205,
   "metadata": {},
   "outputs": [],
   "source": [
    "import numpy as np\n",
    "x=np.expand_dims(x,axis=0)"
   ]
  },
  {
   "cell_type": "code",
   "execution_count": 206,
   "metadata": {},
   "outputs": [
    {
     "data": {
      "text/plain": [
       "(1, 224, 224, 3)"
      ]
     },
     "execution_count": 206,
     "metadata": {},
     "output_type": "execute_result"
    }
   ],
   "source": [
    "x.shape"
   ]
  },
  {
   "cell_type": "code",
   "execution_count": 207,
   "metadata": {},
   "outputs": [],
   "source": [
    "#cnn = load_model('CNN_Model.h5')"
   ]
  },
  {
   "cell_type": "code",
   "execution_count": 208,
   "metadata": {},
   "outputs": [],
   "source": [
    "a = cnn.predict(x)"
   ]
  },
  {
   "cell_type": "code",
   "execution_count": 209,
   "metadata": {},
   "outputs": [],
   "source": [
    "m=np.argmax(a)"
   ]
  },
  {
   "cell_type": "code",
   "execution_count": 210,
   "metadata": {},
   "outputs": [
    {
     "name": "stdout",
     "output_type": "stream",
     "text": [
      "Infected\n"
     ]
    }
   ],
   "source": [
    "if(m==1):\n",
    "    print(\"UnInfected\")\n",
    "else:\n",
    "    print(\"Infected\")"
   ]
  },
  {
   "cell_type": "code",
   "execution_count": null,
   "metadata": {},
   "outputs": [],
   "source": []
  },
  {
   "cell_type": "code",
   "execution_count": null,
   "metadata": {},
   "outputs": [],
   "source": []
  },
  {
   "cell_type": "markdown",
   "metadata": {},
   "source": [
    "## Transfer Learning Using VGG16"
   ]
  },
  {
   "cell_type": "code",
   "execution_count": 92,
   "metadata": {},
   "outputs": [],
   "source": [
    "from tensorflow.keras.applications.vgg16 import VGG16"
   ]
  },
  {
   "cell_type": "code",
   "execution_count": 93,
   "metadata": {},
   "outputs": [],
   "source": [
    "vgg16Model = VGG16(input_shape=IMAGE_SIZE + [3], weights='imagenet', include_top=False)"
   ]
  },
  {
   "cell_type": "code",
   "execution_count": 94,
   "metadata": {},
   "outputs": [],
   "source": [
    "for layer in vgg16Model.layers:\n",
    "    layer.trainable = False"
   ]
  },
  {
   "cell_type": "code",
   "execution_count": 95,
   "metadata": {},
   "outputs": [],
   "source": [
    "x = Flatten()(vgg16Model.output)"
   ]
  },
  {
   "cell_type": "code",
   "execution_count": 96,
   "metadata": {},
   "outputs": [],
   "source": [
    "predictions = Dense(2, activation='softmax') (x)"
   ]
  },
  {
   "cell_type": "code",
   "execution_count": 97,
   "metadata": {},
   "outputs": [],
   "source": [
    "modelnet = Model(inputs=vgg16Model.input, outputs=predictions)"
   ]
  },
  {
   "cell_type": "code",
   "execution_count": 98,
   "metadata": {},
   "outputs": [
    {
     "name": "stdout",
     "output_type": "stream",
     "text": [
      "Model: \"functional_1\"\n",
      "_________________________________________________________________\n",
      "Layer (type)                 Output Shape              Param #   \n",
      "=================================================================\n",
      "input_1 (InputLayer)         [(None, 224, 224, 3)]     0         \n",
      "_________________________________________________________________\n",
      "block1_conv1 (Conv2D)        (None, 224, 224, 64)      1792      \n",
      "_________________________________________________________________\n",
      "block1_conv2 (Conv2D)        (None, 224, 224, 64)      36928     \n",
      "_________________________________________________________________\n",
      "block1_pool (MaxPooling2D)   (None, 112, 112, 64)      0         \n",
      "_________________________________________________________________\n",
      "block2_conv1 (Conv2D)        (None, 112, 112, 128)     73856     \n",
      "_________________________________________________________________\n",
      "block2_conv2 (Conv2D)        (None, 112, 112, 128)     147584    \n",
      "_________________________________________________________________\n",
      "block2_pool (MaxPooling2D)   (None, 56, 56, 128)       0         \n",
      "_________________________________________________________________\n",
      "block3_conv1 (Conv2D)        (None, 56, 56, 256)       295168    \n",
      "_________________________________________________________________\n",
      "block3_conv2 (Conv2D)        (None, 56, 56, 256)       590080    \n",
      "_________________________________________________________________\n",
      "block3_conv3 (Conv2D)        (None, 56, 56, 256)       590080    \n",
      "_________________________________________________________________\n",
      "block3_pool (MaxPooling2D)   (None, 28, 28, 256)       0         \n",
      "_________________________________________________________________\n",
      "block4_conv1 (Conv2D)        (None, 28, 28, 512)       1180160   \n",
      "_________________________________________________________________\n",
      "block4_conv2 (Conv2D)        (None, 28, 28, 512)       2359808   \n",
      "_________________________________________________________________\n",
      "block4_conv3 (Conv2D)        (None, 28, 28, 512)       2359808   \n",
      "_________________________________________________________________\n",
      "block4_pool (MaxPooling2D)   (None, 14, 14, 512)       0         \n",
      "_________________________________________________________________\n",
      "block5_conv1 (Conv2D)        (None, 14, 14, 512)       2359808   \n",
      "_________________________________________________________________\n",
      "block5_conv2 (Conv2D)        (None, 14, 14, 512)       2359808   \n",
      "_________________________________________________________________\n",
      "block5_conv3 (Conv2D)        (None, 14, 14, 512)       2359808   \n",
      "_________________________________________________________________\n",
      "block5_pool (MaxPooling2D)   (None, 7, 7, 512)         0         \n",
      "_________________________________________________________________\n",
      "flatten_4 (Flatten)          (None, 25088)             0         \n",
      "_________________________________________________________________\n",
      "dense_16 (Dense)             (None, 2)                 50178     \n",
      "=================================================================\n",
      "Total params: 14,764,866\n",
      "Trainable params: 50,178\n",
      "Non-trainable params: 14,714,688\n",
      "_________________________________________________________________\n"
     ]
    }
   ],
   "source": [
    "modelnet.summary()"
   ]
  },
  {
   "cell_type": "code",
   "execution_count": 99,
   "metadata": {},
   "outputs": [],
   "source": [
    "# tell the model what cost and optimization method to use\n",
    "modelnet.compile(\n",
    "  loss='categorical_crossentropy',\n",
    "  optimizer='adam',\n",
    "  metrics=['accuracy']\n",
    ")"
   ]
  },
  {
   "cell_type": "code",
   "execution_count": 100,
   "metadata": {},
   "outputs": [],
   "source": [
    "early_stop = tf.keras.callbacks.EarlyStopping(\n",
    "    monitor=\"val_loss\",\n",
    "    patience=10,\n",
    "    verbose=1,\n",
    "    restore_best_weights=True,\n",
    ")"
   ]
  },
  {
   "cell_type": "code",
   "execution_count": 101,
   "metadata": {},
   "outputs": [
    {
     "name": "stdout",
     "output_type": "stream",
     "text": [
      "Epoch 1/50\n",
      " 1/13 [=>............................] - ETA: 0s - loss: 0.8821 - accuracy: 0.4375WARNING:tensorflow:From C:\\Users\\Dibyaranjan\\anaconda3\\lib\\site-packages\\tensorflow\\python\\ops\\summary_ops_v2.py:1277: stop (from tensorflow.python.eager.profiler) is deprecated and will be removed after 2020-07-01.\n",
      "Instructions for updating:\n",
      "use `tf.profiler.experimental.stop` instead.\n",
      "13/13 [==============================] - 70s 5s/step - loss: 1.1140 - accuracy: 0.5889 - val_loss: 1.2934 - val_accuracy: 0.3433\n",
      "Epoch 2/50\n",
      "13/13 [==============================] - 70s 5s/step - loss: 0.6690 - accuracy: 0.6514 - val_loss: 0.5206 - val_accuracy: 0.6791\n",
      "Epoch 3/50\n",
      "13/13 [==============================] - 75s 6s/step - loss: 0.5474 - accuracy: 0.7115 - val_loss: 0.6007 - val_accuracy: 0.6567\n",
      "Epoch 4/50\n",
      "13/13 [==============================] - 75s 6s/step - loss: 0.4065 - accuracy: 0.7957 - val_loss: 0.4562 - val_accuracy: 0.7761\n",
      "Epoch 5/50\n",
      "13/13 [==============================] - 71s 5s/step - loss: 0.3843 - accuracy: 0.8317 - val_loss: 0.3888 - val_accuracy: 0.8433\n",
      "Epoch 6/50\n",
      "13/13 [==============================] - 74s 6s/step - loss: 0.3510 - accuracy: 0.8413 - val_loss: 0.3310 - val_accuracy: 0.8582\n",
      "Epoch 7/50\n",
      "13/13 [==============================] - 73s 6s/step - loss: 0.3332 - accuracy: 0.8702 - val_loss: 0.4194 - val_accuracy: 0.7836\n",
      "Epoch 8/50\n",
      "13/13 [==============================] - 71s 5s/step - loss: 0.3076 - accuracy: 0.8798 - val_loss: 0.3394 - val_accuracy: 0.8358\n",
      "Epoch 9/50\n",
      "13/13 [==============================] - 76s 6s/step - loss: 0.2685 - accuracy: 0.8870 - val_loss: 0.3128 - val_accuracy: 0.8955\n",
      "Epoch 10/50\n",
      "13/13 [==============================] - 73s 6s/step - loss: 0.3147 - accuracy: 0.8702 - val_loss: 0.3814 - val_accuracy: 0.8060\n",
      "Epoch 11/50\n",
      "13/13 [==============================] - 70s 5s/step - loss: 0.2601 - accuracy: 0.8918 - val_loss: 0.3773 - val_accuracy: 0.8284\n",
      "Epoch 12/50\n",
      "13/13 [==============================] - 74s 6s/step - loss: 0.2546 - accuracy: 0.8990 - val_loss: 0.3740 - val_accuracy: 0.8358\n",
      "Epoch 13/50\n",
      "13/13 [==============================] - 73s 6s/step - loss: 0.2388 - accuracy: 0.9183 - val_loss: 0.3235 - val_accuracy: 0.8507\n",
      "Epoch 14/50\n",
      "13/13 [==============================] - 71s 5s/step - loss: 0.3009 - accuracy: 0.8894 - val_loss: 0.4339 - val_accuracy: 0.7836\n",
      "Epoch 15/50\n",
      "13/13 [==============================] - 71s 5s/step - loss: 0.2517 - accuracy: 0.9111 - val_loss: 0.2903 - val_accuracy: 0.8582\n",
      "Epoch 16/50\n",
      "13/13 [==============================] - 70s 5s/step - loss: 0.2051 - accuracy: 0.9255 - val_loss: 0.3138 - val_accuracy: 0.8358\n",
      "Epoch 17/50\n",
      "13/13 [==============================] - 69s 5s/step - loss: 0.2392 - accuracy: 0.8918 - val_loss: 0.2839 - val_accuracy: 0.8731\n",
      "Epoch 18/50\n",
      "13/13 [==============================] - 68s 5s/step - loss: 0.2268 - accuracy: 0.9207 - val_loss: 0.2227 - val_accuracy: 0.9328\n",
      "Epoch 19/50\n",
      "13/13 [==============================] - 68s 5s/step - loss: 0.2406 - accuracy: 0.9062 - val_loss: 0.2709 - val_accuracy: 0.8881\n",
      "Epoch 20/50\n",
      "13/13 [==============================] - 68s 5s/step - loss: 0.2039 - accuracy: 0.9279 - val_loss: 0.3513 - val_accuracy: 0.8209\n",
      "Epoch 21/50\n",
      "13/13 [==============================] - 70s 5s/step - loss: 0.2167 - accuracy: 0.9183 - val_loss: 0.3796 - val_accuracy: 0.7985\n",
      "Epoch 22/50\n",
      "13/13 [==============================] - 72s 6s/step - loss: 0.1686 - accuracy: 0.9375 - val_loss: 0.2400 - val_accuracy: 0.9104\n",
      "Epoch 23/50\n",
      "13/13 [==============================] - 70s 5s/step - loss: 0.1839 - accuracy: 0.9399 - val_loss: 0.2256 - val_accuracy: 0.9179\n",
      "Epoch 24/50\n",
      "13/13 [==============================] - 75s 6s/step - loss: 0.1784 - accuracy: 0.9495 - val_loss: 0.2783 - val_accuracy: 0.8582\n",
      "Epoch 25/50\n",
      "13/13 [==============================] - 72s 6s/step - loss: 0.2112 - accuracy: 0.9183 - val_loss: 0.5480 - val_accuracy: 0.7612\n",
      "Epoch 26/50\n",
      "13/13 [==============================] - 68s 5s/step - loss: 0.2255 - accuracy: 0.9183 - val_loss: 0.2057 - val_accuracy: 0.9104\n",
      "Epoch 27/50\n",
      "13/13 [==============================] - 70s 5s/step - loss: 0.2257 - accuracy: 0.9183 - val_loss: 0.3467 - val_accuracy: 0.8209\n",
      "Epoch 28/50\n",
      "13/13 [==============================] - 70s 5s/step - loss: 0.1636 - accuracy: 0.9471 - val_loss: 0.2429 - val_accuracy: 0.9179\n",
      "Epoch 29/50\n",
      "13/13 [==============================] - 71s 5s/step - loss: 0.1735 - accuracy: 0.9327 - val_loss: 0.1913 - val_accuracy: 0.9403\n",
      "Epoch 30/50\n",
      "13/13 [==============================] - 70s 5s/step - loss: 0.1913 - accuracy: 0.9327 - val_loss: 0.1918 - val_accuracy: 0.9328\n",
      "Epoch 31/50\n",
      "13/13 [==============================] - 69s 5s/step - loss: 0.1636 - accuracy: 0.9423 - val_loss: 0.2698 - val_accuracy: 0.8806\n",
      "Epoch 32/50\n",
      "13/13 [==============================] - 72s 6s/step - loss: 0.1596 - accuracy: 0.9399 - val_loss: 0.3086 - val_accuracy: 0.8731\n",
      "Epoch 33/50\n",
      "13/13 [==============================] - 69s 5s/step - loss: 0.1591 - accuracy: 0.9399 - val_loss: 0.2362 - val_accuracy: 0.9179\n",
      "Epoch 34/50\n",
      "13/13 [==============================] - 80s 6s/step - loss: 0.1751 - accuracy: 0.9351 - val_loss: 0.4901 - val_accuracy: 0.7612\n",
      "Epoch 35/50\n",
      "13/13 [==============================] - 79s 6s/step - loss: 0.2076 - accuracy: 0.9111 - val_loss: 0.2001 - val_accuracy: 0.9104\n",
      "Epoch 36/50\n",
      "13/13 [==============================] - 77s 6s/step - loss: 0.1811 - accuracy: 0.9423 - val_loss: 0.2955 - val_accuracy: 0.8657\n",
      "Epoch 37/50\n",
      "13/13 [==============================] - 83s 6s/step - loss: 0.1709 - accuracy: 0.9375 - val_loss: 0.3459 - val_accuracy: 0.8358\n",
      "Epoch 38/50\n",
      "13/13 [==============================] - 79s 6s/step - loss: 0.1489 - accuracy: 0.9495 - val_loss: 0.2425 - val_accuracy: 0.8881\n",
      "Epoch 39/50\n",
      "13/13 [==============================] - ETA: 0s - loss: 0.1655 - accuracy: 0.9423Restoring model weights from the end of the best epoch.\n",
      "13/13 [==============================] - 85s 7s/step - loss: 0.1655 - accuracy: 0.9423 - val_loss: 0.3366 - val_accuracy: 0.8358\n",
      "Epoch 00039: early stopping\n"
     ]
    }
   ],
   "source": [
    "# fit the model\n",
    "# Run the cell. It will take some time to execute\n",
    "results = modelnet.fit_generator(\n",
    "  training_set,\n",
    "  validation_data=test_set,\n",
    "  epochs=50,\n",
    "  steps_per_epoch=len(training_set),\n",
    "  validation_steps=len(test_set) ,\n",
    "  callbacks=[tensorboard_callback,early_stop]  \n",
    ")"
   ]
  },
  {
   "cell_type": "code",
   "execution_count": 102,
   "metadata": {},
   "outputs": [
    {
     "data": {
      "image/png": "[encoded data removed]",
      "text/plain": [
       "<Figure size 990x630 with 1 Axes>"
      ]
     },
     "metadata": {
      "needs_background": "light"
     },
     "output_type": "display_data"
    },
    {
     "data": {
      "image/png": "[encoded data removed]",
      "text/plain": [
       "<Figure size 990x630 with 1 Axes>"
      ]
     },
     "metadata": {
      "needs_background": "light"
     },
     "output_type": "display_data"
    },
    {
     "data": {
      "text/plain": [
       "<Figure size 990x630 with 0 Axes>"
      ]
     },
     "metadata": {},
     "output_type": "display_data"
    }
   ],
   "source": [
    "# plot the loss\n",
    "plt.plot(results.history['loss'], label='train loss')\n",
    "plt.plot(results.history['val_loss'], label='val loss')\n",
    "plt.legend()\n",
    "plt.show()\n",
    "plt.savefig('LossVal_loss')\n",
    "\n",
    "# plot the accuracy\n",
    "plt.plot(results.history['accuracy'], label='train acc')\n",
    "plt.plot(results.history['val_accuracy'], label='val acc')\n",
    "plt.legend()\n",
    "plt.show()\n",
    "plt.savefig('AccVal_acc')"
   ]
  },
  {
   "cell_type": "code",
   "execution_count": 103,
   "metadata": {},
   "outputs": [],
   "source": [
    "modelnet.save('model_vgg16.h5')"
   ]
  },
  {
   "cell_type": "code",
   "execution_count": 104,
   "metadata": {},
   "outputs": [],
   "source": [
    "from tensorflow.keras.models import load_model"
   ]
  },
  {
   "cell_type": "code",
   "execution_count": 105,
   "metadata": {},
   "outputs": [],
   "source": [
    "vgg_new = load_model('model_vgg16.h5')"
   ]
  },
  {
   "cell_type": "code",
   "execution_count": 106,
   "metadata": {},
   "outputs": [],
   "source": [
    "from tensorflow.keras.preprocessing import image"
   ]
  },
  {
   "cell_type": "code",
   "execution_count": 107,
   "metadata": {},
   "outputs": [
    {
     "data": {
      "text/plain": [
       "'D:\\\\JUPYTER\\\\PROJECTS\\\\Malaria_Cell_Detection'"
      ]
     },
     "execution_count": 107,
     "metadata": {},
     "output_type": "execute_result"
    }
   ],
   "source": [
    "pwd"
   ]
  },
  {
   "cell_type": "code",
   "execution_count": 163,
   "metadata": {},
   "outputs": [],
   "source": [
    "img=image.load_img('Dataset/Test/Uninfected/C3thin_original_IMG_20150608_163047_cell_183.png',target_size=(224,224,3))"
   ]
  },
  {
   "cell_type": "code",
   "execution_count": 164,
   "metadata": {},
   "outputs": [
    {
     "data": {
      "image/png": "[encoded data removed]",
      "text/plain": [
       "<PIL.Image.Image image mode=RGB size=224x224 at 0x12ED503E4C0>"
      ]
     },
     "execution_count": 164,
     "metadata": {},
     "output_type": "execute_result"
    }
   ],
   "source": [
    "img"
   ]
  },
  {
   "cell_type": "code",
   "execution_count": 165,
   "metadata": {},
   "outputs": [
    {
     "data": {
      "text/plain": [
       "array([[[0., 0., 0.],\n",
       "        [0., 0., 0.],\n",
       "        [0., 0., 0.],\n",
       "        ...,\n",
       "        [0., 0., 0.],\n",
       "        [0., 0., 0.],\n",
       "        [0., 0., 0.]],\n",
       "\n",
       "       [[0., 0., 0.],\n",
       "        [0., 0., 0.],\n",
       "        [0., 0., 0.],\n",
       "        ...,\n",
       "        [0., 0., 0.],\n",
       "        [0., 0., 0.],\n",
       "        [0., 0., 0.]],\n",
       "\n",
       "       [[0., 0., 0.],\n",
       "        [0., 0., 0.],\n",
       "        [0., 0., 0.],\n",
       "        ...,\n",
       "        [0., 0., 0.],\n",
       "        [0., 0., 0.],\n",
       "        [0., 0., 0.]],\n",
       "\n",
       "       ...,\n",
       "\n",
       "       [[0., 0., 0.],\n",
       "        [0., 0., 0.],\n",
       "        [0., 0., 0.],\n",
       "        ...,\n",
       "        [0., 0., 0.],\n",
       "        [0., 0., 0.],\n",
       "        [0., 0., 0.]],\n",
       "\n",
       "       [[0., 0., 0.],\n",
       "        [0., 0., 0.],\n",
       "        [0., 0., 0.],\n",
       "        ...,\n",
       "        [0., 0., 0.],\n",
       "        [0., 0., 0.],\n",
       "        [0., 0., 0.]],\n",
       "\n",
       "       [[0., 0., 0.],\n",
       "        [0., 0., 0.],\n",
       "        [0., 0., 0.],\n",
       "        ...,\n",
       "        [0., 0., 0.],\n",
       "        [0., 0., 0.],\n",
       "        [0., 0., 0.]]], dtype=float32)"
      ]
     },
     "execution_count": 165,
     "metadata": {},
     "output_type": "execute_result"
    }
   ],
   "source": [
    "x=image.img_to_array(img)\n",
    "x"
   ]
  },
  {
   "cell_type": "code",
   "execution_count": 166,
   "metadata": {},
   "outputs": [
    {
     "data": {
      "text/plain": [
       "(224, 224, 3)"
      ]
     },
     "execution_count": 166,
     "metadata": {},
     "output_type": "execute_result"
    }
   ],
   "source": [
    "x.shape"
   ]
  },
  {
   "cell_type": "code",
   "execution_count": 167,
   "metadata": {},
   "outputs": [],
   "source": [
    "x=x/255"
   ]
  },
  {
   "cell_type": "code",
   "execution_count": 168,
   "metadata": {},
   "outputs": [],
   "source": [
    "from tensorflow.keras.applications.vgg16 import preprocess_input"
   ]
  },
  {
   "cell_type": "code",
   "execution_count": 169,
   "metadata": {},
   "outputs": [],
   "source": [
    "import numpy as np\n",
    "x=np.expand_dims(x,axis=0)\n",
    "img_data=preprocess_input(x)"
   ]
  },
  {
   "cell_type": "code",
   "execution_count": 170,
   "metadata": {},
   "outputs": [
    {
     "data": {
      "text/plain": [
       "(1, 224, 224, 3)"
      ]
     },
     "execution_count": 170,
     "metadata": {},
     "output_type": "execute_result"
    }
   ],
   "source": [
    "img_data.shape"
   ]
  },
  {
   "cell_type": "code",
   "execution_count": 171,
   "metadata": {},
   "outputs": [
    {
     "data": {
      "text/plain": [
       "array([[4.2853917e-06, 9.9999571e-01]], dtype=float32)"
      ]
     },
     "execution_count": 171,
     "metadata": {},
     "output_type": "execute_result"
    }
   ],
   "source": [
    "vgg_new.predict(img_data)"
   ]
  },
  {
   "cell_type": "code",
   "execution_count": 172,
   "metadata": {},
   "outputs": [],
   "source": [
    "a=np.argmax(vgg_new.predict(img_data), axis=1)"
   ]
  },
  {
   "cell_type": "code",
   "execution_count": 173,
   "metadata": {},
   "outputs": [
    {
     "data": {
      "text/plain": [
       "array([1], dtype=int64)"
      ]
     },
     "execution_count": 173,
     "metadata": {},
     "output_type": "execute_result"
    }
   ],
   "source": [
    "a"
   ]
  },
  {
   "cell_type": "code",
   "execution_count": 174,
   "metadata": {},
   "outputs": [
    {
     "name": "stdout",
     "output_type": "stream",
     "text": [
      "Infected\n"
     ]
    }
   ],
   "source": [
    "if(a==0):\n",
    "    print(\"UnInfected\")\n",
    "else:\n",
    "    print(\"Infected\")"
   ]
  },
  {
   "cell_type": "code",
   "execution_count": null,
   "metadata": {},
   "outputs": [],
   "source": []
  },
  {
   "cell_type": "code",
   "execution_count": null,
   "metadata": {},
   "outputs": [],
   "source": []
  },
  {
   "cell_type": "code",
   "execution_count": null,
   "metadata": {},
   "outputs": [],
   "source": []
  }
 ],
 "metadata": {
  "kernelspec": {
   "display_name": "tensorflowenv",
   "language": "python",
   "name": "tensorflowenv"
  },
  "language_info": {
   "codemirror_mode": {
    "name": "ipython",
    "version": 3
   },
   "file_extension": ".py",
   "mimetype": "text/x-python",
   "name": "python",
   "nbconvert_exporter": "python",
   "pygments_lexer": "ipython3",
   "version": "3.8.3"
  }
 },
 "nbformat": 4,
 "nbformat_minor": 2
}
